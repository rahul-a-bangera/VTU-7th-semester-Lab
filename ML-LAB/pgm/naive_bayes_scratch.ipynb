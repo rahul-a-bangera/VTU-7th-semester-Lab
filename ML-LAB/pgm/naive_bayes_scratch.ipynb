{
 "metadata": {
  "language_info": {
   "codemirror_mode": {
    "name": "ipython",
    "version": 3
   },
   "file_extension": ".py",
   "mimetype": "text/x-python",
   "name": "python",
   "nbconvert_exporter": "python",
   "pygments_lexer": "ipython3",
   "version": "3.9.1-final"
  },
  "orig_nbformat": 2,
  "kernelspec": {
   "name": "python3",
   "display_name": "Python 3.9.1 64-bit",
   "metadata": {
    "interpreter": {
     "hash": "8b03d4cd05d71d535371b426da57de743181e37d8974a9636efe6e78873daaed"
    }
   }
  }
 },
 "nbformat": 4,
 "nbformat_minor": 2,
 "cells": [
  {
   "cell_type": "code",
   "execution_count": 2,
   "metadata": {},
   "outputs": [],
   "source": [
    "def probAttr(data,attr,val):\n",
    "    Total=data.shape[0]\n",
    "    cnt=len(data[data[attr]==val])\n",
    "    return cnt,cnt/Total"
   ]
  },
  {
   "cell_type": "code",
   "execution_count": 3,
   "metadata": {},
   "outputs": [],
   "source": [
    "def test(example,Attr,concept_list,conceptProbs,AttrConcept,probability_list):\n",
    "    Total=len(example)\n",
    "    misclassification_count=0\n",
    "    for ex in example:\n",
    "        px={}\n",
    "        for a in Attr:\n",
    "            for x in ex:\n",
    "                for c in concept_list:\n",
    "                    if x in AttrConcept[a]:\n",
    "                        if c not in px:\n",
    "                            px[c]=conceptProbs[c] * AttrConcept[a][x][c]/ probability_list[a][x]\n",
    "                        else:\n",
    "                            px[c]=px[c] * AttrConcept[a][x][c]/ probability_list[a][x]\n",
    "        print(px)\n",
    "        classification=max(px,key=px.get)\n",
    "        print(f\"Classification : {classification}  Expected : {ex[-1]}\\n\")\n",
    "        if classification!=ex[-1]:\n",
    "            misclassification_count+=1\n",
    "    misclassification_rate=misclassification_count*100/Total\n",
    "    accuracy=100-misclassification_rate\n",
    "    print(f\"Missclassification count: {misclassification_count}\\n Missclassification rate: {misclassification_rate} \\n Accuracy: {accuracy} % \\n\")\n"
   ]
  },
  {
   "cell_type": "code",
   "execution_count": 4,
   "metadata": {},
   "outputs": [],
   "source": [
    "def train(data,Attr,conceptvals,concept):\n",
    "    countConcept={}\n",
    "    conceptProbs={}\n",
    "    for cVal in conceptvals:\n",
    "        countConcept[cVal],conceptProbs[cVal]=probAttr(data,concept,cVal)\n",
    "    AttrConcept={}\n",
    "    probability_list={}\n",
    "    for att in Attr:\n",
    "        AttrConcept[att]={}\n",
    "        probability_list[att]={}\n",
    "        for val in Attr[att]:\n",
    "            AttrConcept[att][val]={}\n",
    "            a,probability_list[att][val]=probAttr(data,att,val)\n",
    "            for cVal in conceptvals:\n",
    "                dataTemp=data[data[att]==val]\n",
    "                AttrConcept[att][val][cVal]=len(dataTemp[dataTemp[concept]==cVal])/countConcept[cVal]\n",
    "    print(f\"P(X): {conceptProbs} \\n\")\n",
    "    print(f\"P(X/A) : {AttrConcept} \\n\")\n",
    "    print(f\"P(X) : {probability_list} \\n\")\n",
    "    return conceptProbs,AttrConcept,probability_list\n",
    "\n"
   ]
  },
  {
   "cell_type": "code",
   "execution_count": 5,
   "metadata": {},
   "outputs": [
    {
     "output_type": "stream",
     "name": "stdout",
     "text": [
      "Outlook : {'Overcast', 'Rain', 'Sunny'}\nTemperature : {'Mild', 'Hot', 'Cool'}\nHumidity : {'Normal', 'High'}\nWind : {'Strong', 'Weak'}\nP(X): {'Yes': 0.6428571428571429, 'No': 0.35714285714285715} \n\nP(X/A) : {'Outlook': {'Overcast': {'Yes': 0.4444444444444444, 'No': 0.0}, 'Rain': {'Yes': 0.3333333333333333, 'No': 0.4}, 'Sunny': {'Yes': 0.2222222222222222, 'No': 0.6}}, 'Temperature': {'Mild': {'Yes': 0.4444444444444444, 'No': 0.4}, 'Hot': {'Yes': 0.2222222222222222, 'No': 0.4}, 'Cool': {'Yes': 0.3333333333333333, 'No': 0.2}}, 'Humidity': {'Normal': {'Yes': 0.6666666666666666, 'No': 0.2}, 'High': {'Yes': 0.3333333333333333, 'No': 0.8}}, 'Wind': {'Strong': {'Yes': 0.3333333333333333, 'No': 0.6}, 'Weak': {'Yes': 0.6666666666666666, 'No': 0.4}}} \n\nP(X) : {'Outlook': {'Overcast': 0.2857142857142857, 'Rain': 0.35714285714285715, 'Sunny': 0.35714285714285715}, 'Temperature': {'Mild': 0.42857142857142855, 'Hot': 0.2857142857142857, 'Cool': 0.2857142857142857}, 'Humidity': {'Normal': 0.5, 'High': 0.5}, 'Wind': {'Strong': 0.42857142857142855, 'Weak': 0.5714285714285714}} \n\n{'Yes': 0.2419753086419753, 'No': 0.9408000000000002}\nClassification : No  Expected : No\n\n{'Yes': 0.16131687242798354, 'No': 1.8816000000000002}\nClassification : No  Expected : No\n\n{'Yes': 0.6049382716049383, 'No': 0.0}\nClassification : Yes  Expected : Yes\n\n{'Yes': 0.4839506172839506, 'No': 0.4181333333333335}\nClassification : Yes  Expected : Yes\n\n{'Yes': 1.0888888888888888, 'No': 0.07840000000000004}\nClassification : Yes  Expected : Yes\n\n{'Yes': 0.7259259259259259, 'No': 0.15680000000000005}\nClassification : Yes  Expected : No\n\n{'Yes': 1.2098765432098766, 'No': 0.0}\nClassification : Yes  Expected : Yes\n\n{'Yes': 0.3226337448559671, 'No': 0.6272000000000001}\nClassification : No  Expected : No\n\n{'Yes': 0.7259259259259256, 'No': 0.11760000000000002}\nClassification : Yes  Expected : Yes\n\n{'Yes': 0.9679012345679012, 'No': 0.10453333333333338}\nClassification : Yes  Expected : Yes\n\n{'Yes': 0.43017832647462273, 'No': 0.31360000000000005}\nClassification : Yes  Expected : Yes\n\n{'Yes': 0.5377229080932785, 'No': 0.0}\nClassification : Yes  Expected : Yes\n\n{'Yes': 1.2098765432098766, 'No': 0.0}\nClassification : Yes  Expected : Yes\n\n{'Yes': 0.3226337448559671, 'No': 0.8362666666666669}\nClassification : No  Expected : No\n\nMissclassification count: 1\n Missclassification rate: 7.142857142857143 \n Accuracy: 92.85714285714286 % \n\n"
     ]
    }
   ],
   "source": [
    "import pandas as pd \n",
    "df=pd.read_csv(\"D:\\MyCode\\Python\\MLlab\\dataset\\PlayTennis.csv\")\n",
    "concept=str(list(df)[-1])\n",
    "concept_list=set(df[concept])\n",
    "Attr={}\n",
    "\n",
    "for a in df.columns[1:-1]:\n",
    "    Attr[a]=set(df[a])\n",
    "    print(f\"{a} : {Attr[a]}\")\n",
    "\n",
    "conceptProbs,AttrConcept,probability_list=train(df,Attr,concept_list,concept)\n",
    "\n",
    "example=pd.read_csv(\"D:\\MyCode\\Python\\MLlab\\dataset\\PlayTennis.csv\")\n",
    "\n",
    "test(example.values,Attr,concept_list,conceptProbs,AttrConcept,probability_list)\n",
    "\n"
   ]
  },
  {
   "cell_type": "code",
   "execution_count": 10,
   "metadata": {},
   "outputs": [
    {
     "output_type": "stream",
     "name": "stdout",
     "text": [
      "{'Yes', 'No'}\n"
     ]
    }
   ],
   "source": [
    "print(set(df[concept]))"
   ]
  },
  {
   "cell_type": "code",
   "execution_count": null,
   "metadata": {},
   "outputs": [],
   "source": []
  }
 ]
}