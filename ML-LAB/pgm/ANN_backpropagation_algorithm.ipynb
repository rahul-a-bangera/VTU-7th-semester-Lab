{
 "metadata": {
  "language_info": {
   "codemirror_mode": {
    "name": "ipython",
    "version": 3
   },
   "file_extension": ".py",
   "mimetype": "text/x-python",
   "name": "python",
   "nbconvert_exporter": "python",
   "pygments_lexer": "ipython3",
   "version": "3.9.1-final"
  },
  "orig_nbformat": 2,
  "kernelspec": {
   "name": "python3",
   "display_name": "Python 3.9.1 64-bit",
   "metadata": {
    "interpreter": {
     "hash": "8b03d4cd05d71d535371b426da57de743181e37d8974a9636efe6e78873daaed"
    }
   }
  }
 },
 "nbformat": 4,
 "nbformat_minor": 2,
 "cells": [
  {
   "cell_type": "code",
   "execution_count": 1,
   "metadata": {},
   "outputs": [],
   "source": [
    "import numpy as np\n",
    "X=np.array(([2,9],[1,5],[3,6]),dtype=float)\n",
    "Y=np.array(([92],[86],[89]),dtype=float)\n",
    "X=X/np.amax(X,axis=0)\n",
    "Y=Y/100"
   ]
  },
  {
   "cell_type": "code",
   "execution_count": 2,
   "metadata": {},
   "outputs": [],
   "source": [
    "def sigmoid(X):\n",
    "    return 1/(1+ np.exp(-X))\n",
    "def derivatives_sigmoid(X):\n",
    "    return X * (1-X)"
   ]
  },
  {
   "cell_type": "code",
   "execution_count": 3,
   "metadata": {},
   "outputs": [],
   "source": [
    "epoch=1000\n",
    "learning_rate=0.6\n",
    "input_neurons=2\n",
    "hidden_neurons=3\n",
    "output_neurons=1"
   ]
  },
  {
   "cell_type": "code",
   "execution_count": 4,
   "metadata": {},
   "outputs": [],
   "source": [
    "wh=np.random.uniform(size=(input_neurons,hidden_neurons))\n",
    "bh=np.random.uniform(size=(1,hidden_neurons))\n",
    "wo=np.random.uniform(size=(hidden_neurons,output_neurons))\n",
    "bo=np.random.uniform(size=(1,output_neurons))"
   ]
  },
  {
   "cell_type": "code",
   "execution_count": 5,
   "metadata": {},
   "outputs": [],
   "source": [
    "for i in range(epoch):\n",
    "    #forward propagation\n",
    "    net_h=np.dot(X,wh)+bh\n",
    "    sigma_h=sigmoid(net_h)\n",
    "    net_o=np.dot(sigma_h,wo)+bo\n",
    "    output=sigmoid(net_o)\n",
    "    #backward propagation\n",
    "    deltaK=(Y-output)*derivatives_sigmoid(output)\n",
    "    deltaH=deltaK.dot(wo.T)*derivatives_sigmoid(sigma_h)\n",
    "    wo=wo+ sigma_h.T.dot(deltaK) *learning_rate\n",
    "    wh= wh+ X.T.dot(deltaH) *learning_rate"
   ]
  },
  {
   "cell_type": "code",
   "execution_count": 6,
   "metadata": {},
   "outputs": [
    {
     "output_type": "stream",
     "name": "stdout",
     "text": [
      "input: \n[[0.66666667 1.        ]\n [0.33333333 0.55555556]\n [1.         0.66666667]]\nActual Output: \n[[0.92]\n [0.86]\n [0.89]]\nPredicted Output: \n[[0.89529249]\n [0.8830398 ]\n [0.89134839]]\n"
     ]
    }
   ],
   "source": [
    "print(f\"input: \\n{X}\")\n",
    "print(f\"Actual Output: \\n{Y}\")\n",
    "print(f\"Predicted Output: \\n{output}\")"
   ]
  },
  {
   "cell_type": "code",
   "execution_count": null,
   "metadata": {},
   "outputs": [],
   "source": []
  }
 ]
}