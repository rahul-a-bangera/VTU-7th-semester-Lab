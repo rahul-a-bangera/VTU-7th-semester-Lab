{
 "metadata": {
  "language_info": {
   "codemirror_mode": {
    "name": "ipython",
    "version": 3
   },
   "file_extension": ".py",
   "mimetype": "text/x-python",
   "name": "python",
   "nbconvert_exporter": "python",
   "pygments_lexer": "ipython3",
   "version": "3.9.1-final"
  },
  "orig_nbformat": 2,
  "kernelspec": {
   "name": "python3",
   "display_name": "Python 3.9.1 64-bit",
   "metadata": {
    "interpreter": {
     "hash": "8b03d4cd05d71d535371b426da57de743181e37d8974a9636efe6e78873daaed"
    }
   }
  }
 },
 "nbformat": 4,
 "nbformat_minor": 2,
 "cells": [
  {
   "cell_type": "code",
   "execution_count": null,
   "metadata": {},
   "outputs": [],
   "source": [
    "def infogain(P,N):\n",
    "    import math\n",
    "    return -P/(P+N)*math.log2(P/(P+N)) - N/(P+N)*math.log2(N/(P+N))"
   ]
  },
  {
   "cell_type": "code",
   "execution_count": null,
   "metadata": {},
   "outputs": [],
   "source": [
    "def insertNode(tree,addTo,Node):\n",
    "    for k,v in tree.items():\n",
    "        if isinstance(v,dict):\n",
    "            tree[k]=insertNode(v,addTo,Node)\n",
    "        if addTo in tree:\n",
    "            if isinstance(tree[addTo],dict):\n",
    "                tree[addTo][Node]='None'\n",
    "            else:\n",
    "                tree[addTo]={Node:'None'}\n",
    "    return tree        "
   ]
  },
  {
   "cell_type": "code",
   "execution_count": null,
   "metadata": {},
   "outputs": [],
   "source": [
    "def insertConcept(tree,addTo,Node):\n",
    "    for k,v in tree.items():\n",
    "        if isinstance(v,dict):\n",
    "            tree[k]=insertConcept(v,addTo,Node)\n",
    "        if addTo in tree:\n",
    "            tree[addTo]=Node\n",
    "    return tree"
   ]
  },
  {
   "cell_type": "code",
   "execution_count": null,
   "metadata": {},
   "outputs": [],
   "source": [
    "def getNextNode(data,attribute_list,concept,conceptVals,tree,addTo):\n",
    "    total=data.shape[0]\n",
    "    if total==0:\n",
    "        return tree\n",
    "    countC={}\n",
    "    for cval in conceptVals:\n",
    "        dataCC=data[data[concept]==cval]\n",
    "        countC[cval]=dataCC.shape[0]\n",
    "\n",
    "    if countC[conceptVals[0]]==0:\n",
    "        tree=insertConcept(tree,addTo,conceptVals[1])\n",
    "        return tree\n",
    "    if countC[conceptVals[1]]==1:\n",
    "        tree=insertConcept(tree,addTo,conceptVals[0])\n",
    "        return tree\n",
    "    \n",
    "    classEntropy=countC[conceptVals[0]] + countC[conceptVals[1]]\n",
    "\n",
    "    Attr={}\n",
    "    for a in attribute_list:\n",
    "        Attr[a]=list(set(data[a]))\n",
    "    \n",
    "    AttrCount={}\n",
    "    EntropyAttr={}\n",
    "    for att in Attr:\n",
    "        for vals in Attr[att]:\n",
    "            for c in conceptVals:\n",
    "                iData=data[data[att]==vals]\n",
    "                dataAtt=iData[iData[concept]==c]\n",
    "                AttrCount[c]=dataAtt.shape[0]\n",
    "            totalInfo=AttrCount[conceptVals[0]] + AttrCount[conceptVals[1]]\n",
    "            if AttrCount[conceptVals[0]]==0 or AttrCount[conceptVals[1]]==0:\n",
    "                infoGain=0\n",
    "            else:\n",
    "                infoGain=infogain(AttrCount[conceptVals[0]],AttrCount[conceptVals[1]])\n",
    "            if att not in EntropyAttr:\n",
    "                EntropyAttr[att]=(totalInfo/total)*infoGain\n",
    "            else:\n",
    "                EntropyAttr[att]=EntropyAttr[att] + (totalInfo/total)*infoGain\n",
    "    gain={}\n",
    "    for g in EntropyAttr:\n",
    "        gain[g]=classEntropy - EntropyAttr[g]\n",
    "    Node=max(gain,key=gain.get)\n",
    "    tree=insertNode(tree,addTo,Node)\n",
    "\n",
    "    for nD in Attr[Node]:\n",
    "        tree=insertNode(tree,Node,nD)\n",
    "        newData=data[data[Node]==nD].drop(Node,axis=1)\n",
    "        attribute_list=list(newData)[:-1]\n",
    "        tree=getNextNode(newData,attribute_list,concept,conceptVals,tree,nD)\n",
    "    return tree"
   ]
  },
  {
   "cell_type": "code",
   "execution_count": null,
   "metadata": {},
   "outputs": [],
   "source": [
    "import pandas as pd \n",
    "def main():\n",
    "    data=pd.read_csv(\"D:\\MyCode\\Python\\MLlab\\dataset\\heartDisease.csv\")\n",
    "    attribute_list=list(data)[:-1]\n",
    "    concept= str(list(data)[-1])\n",
    "    concept_vals=list(set(data[concept]))\n",
    "    tree=getNextNode(data,attribute_list,concept,concept_vals,{'root':'None'},'root')\n",
    "    return tree"
   ]
  },
  {
   "cell_type": "code",
   "execution_count": null,
   "metadata": {},
   "outputs": [],
   "source": [
    "tree=main()['root']"
   ]
  },
  {
   "cell_type": "code",
   "execution_count": null,
   "metadata": {},
   "outputs": [],
   "source": [
    "df=pd.read_csv(\"D:\\MyCode\\Python\\MLlab\\dataset\\heartDisease.csv\")\n",
    "def test(tree,d):\n",
    "    for k in tree:\n",
    "        for v in tree[k]:\n",
    "            if(d[k]==v and isinstance(tree[k][v],dict)):\n",
    "                test(tree[k][v])\n",
    "            elif(d[k]==v):\n",
    "                print(\"classification : \"+tree[k][v])\n",
    "        \n"
   ]
  },
  {
   "cell_type": "code",
   "execution_count": null,
   "metadata": {},
   "outputs": [],
   "source": [
    "print(tree)"
   ]
  },
  {
   "cell_type": "code",
   "execution_count": null,
   "metadata": {},
   "outputs": [],
   "source": []
  }
 ]
}