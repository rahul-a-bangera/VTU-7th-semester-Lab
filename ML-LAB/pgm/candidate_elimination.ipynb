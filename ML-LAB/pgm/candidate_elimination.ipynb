{
 "metadata": {
  "language_info": {
   "codemirror_mode": {
    "name": "ipython",
    "version": 3
   },
   "file_extension": ".py",
   "mimetype": "text/x-python",
   "name": "python",
   "nbconvert_exporter": "python",
   "pygments_lexer": "ipython3",
   "version": "3.9.1-final"
  },
  "orig_nbformat": 2,
  "kernelspec": {
   "name": "python3",
   "display_name": "Python 3.9.1 64-bit",
   "metadata": {
    "interpreter": {
     "hash": "8b03d4cd05d71d535371b426da57de743181e37d8974a9636efe6e78873daaed"
    }
   }
  }
 },
 "nbformat": 4,
 "nbformat_minor": 2,
 "cells": [
  {
   "cell_type": "code",
   "execution_count": 7,
   "metadata": {},
   "outputs": [
    {
     "output_type": "execute_result",
     "data": {
      "text/plain": [
       "     sky airTemp humidity    wind water forecast enjoySport\n",
       "0  sunny    warm   normal  strong  warm     same        yes\n",
       "1  sunny    warm     high  strong  warm     same        yes\n",
       "2  rainy    cold     high  strong  warm   change         no\n",
       "3  sunny    warm     high  strong  cool   change        yes"
      ],
      "text/html": "<div>\n<style scoped>\n    .dataframe tbody tr th:only-of-type {\n        vertical-align: middle;\n    }\n\n    .dataframe tbody tr th {\n        vertical-align: top;\n    }\n\n    .dataframe thead th {\n        text-align: right;\n    }\n</style>\n<table border=\"1\" class=\"dataframe\">\n  <thead>\n    <tr style=\"text-align: right;\">\n      <th></th>\n      <th>sky</th>\n      <th>airTemp</th>\n      <th>humidity</th>\n      <th>wind</th>\n      <th>water</th>\n      <th>forecast</th>\n      <th>enjoySport</th>\n    </tr>\n  </thead>\n  <tbody>\n    <tr>\n      <th>0</th>\n      <td>sunny</td>\n      <td>warm</td>\n      <td>normal</td>\n      <td>strong</td>\n      <td>warm</td>\n      <td>same</td>\n      <td>yes</td>\n    </tr>\n    <tr>\n      <th>1</th>\n      <td>sunny</td>\n      <td>warm</td>\n      <td>high</td>\n      <td>strong</td>\n      <td>warm</td>\n      <td>same</td>\n      <td>yes</td>\n    </tr>\n    <tr>\n      <th>2</th>\n      <td>rainy</td>\n      <td>cold</td>\n      <td>high</td>\n      <td>strong</td>\n      <td>warm</td>\n      <td>change</td>\n      <td>no</td>\n    </tr>\n    <tr>\n      <th>3</th>\n      <td>sunny</td>\n      <td>warm</td>\n      <td>high</td>\n      <td>strong</td>\n      <td>cool</td>\n      <td>change</td>\n      <td>yes</td>\n    </tr>\n  </tbody>\n</table>\n</div>"
     },
     "metadata": {},
     "execution_count": 7
    }
   ],
   "source": [
    "import pandas as pd\n",
    "df=pd.read_csv(\"D:\\MyCode\\Python\\MLlab\\dataset\\EnjoySport.csv\")\n",
    "df=df.drop(['sl.no'],axis=1)\n",
    "concepts=df.values[:,:-1]\n",
    "target=df.values[:,-1]\n",
    "df.head()"
   ]
  },
  {
   "cell_type": "code",
   "execution_count": 8,
   "metadata": {},
   "outputs": [],
   "source": [
    "def learn(concepts,target):\n",
    "    specific_h=concepts[0].copy()\n",
    "\n",
    "    general_h=[[\"?\" for i in range(len(specific_h))] for i in range(len(specific_h))]\n",
    "\n",
    "    for i,h in enumerate(concepts):\n",
    "        if target[i]== \"yes\":\n",
    "            for x in range(len(specific_h)):\n",
    "                if h[x]!=specific_h[x]:\n",
    "                    specific_h[x]='?'\n",
    "                    general_h[x][x]='?'\n",
    "        if target[i]==\"no\":\n",
    "            for x in range(len(specific_h)):\n",
    "                if h[x]!=specific_h[x]:\n",
    "                    general_h[x][x]=specific_h[x]\n",
    "                else:\n",
    "                    general_h[x][x]='?'\n",
    "    indices=[i for i,val in enumerate(general_h) if val==['?','?','?','?','?','?']]\n",
    "    for i in indices:\n",
    "        general_h.remove(['?','?','?','?','?','?'])\n",
    "    return specific_h,general_h"
   ]
  },
  {
   "cell_type": "code",
   "execution_count": 9,
   "metadata": {},
   "outputs": [
    {
     "output_type": "stream",
     "name": "stdout",
     "text": [
      "specific hypothesis ['sunny' 'warm' '?' 'strong' '?' '?']\nGenral hypothesis [['sunny', '?', '?', '?', '?', '?'], ['?', 'warm', '?', '?', '?', '?']]\n"
     ]
    }
   ],
   "source": [
    "s_learn,g_learn=learn(concepts,target)\n",
    "print(f\"specific hypothesis {s_learn}\")\n",
    "print(f\"Genral hypothesis {g_learn}\")\n"
   ]
  },
  {
   "cell_type": "code",
   "execution_count": null,
   "metadata": {},
   "outputs": [],
   "source": []
  }
 ]
}